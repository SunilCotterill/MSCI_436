{
  "cells": [
    {
      "cell_type": "markdown",
      "source": [
        "# Importing Model\n"
      ],
      "metadata": {
        "id": "qoYC-ZKJQ4vL"
      }
    },
    {
      "cell_type": "code",
      "source": [
        "import numpy as np\n",
        "import pandas as pd\n",
        "from sklearn.linear_model import LinearRegression\n",
        "from sklearn.preprocessing import OneHotEncoder\n",
        "from sklearn.model_selection import train_test_split"
      ],
      "metadata": {
        "id": "RI9SZx4MRFnY"
      },
      "execution_count": 21,
      "outputs": []
    },
    {
      "cell_type": "code",
      "source": [
        "df_train = pd.read_csv('./train.csv')\n",
        "categorical_cols = df_train.select_dtypes(exclude = ['float64', 'int64'])\n",
        "numeric_cols = df_train.select_dtypes( ['float64', 'int64'])\n",
        "\n",
        "#Here filling NaN numeric values with 0\n",
        "df_train[numeric_cols.columns] = df_train[numeric_cols.columns].fillna(0)\n",
        "\n",
        "# One Hot Encoding the categorical values\n",
        "one_hot_encoder = OneHotEncoder()\n",
        "df_one_hot_train = df_train\n",
        "\n",
        "for col in categorical_cols:\n",
        "  df2 = pd.DataFrame(one_hot_encoder.fit_transform(df_one_hot_train[[col]]).toarray())\n",
        "  df2.columns = one_hot_encoder.get_feature_names_out()\n",
        "  df_one_hot_train = df_one_hot_train.join(df2)\n",
        "\n",
        "df_one_hot_train = df_one_hot_train.drop(categorical_cols,axis=1)\n",
        "\n",
        "#Moving SalePrice (y) to be last column\n",
        "df_one_hot_train=df_one_hot_train[[c for c in df_one_hot_train if c != \"SalePrice\"] + [\"SalePrice\"]]\n",
        "\n",
        "cols_to_keep = ['GrLivArea', '2ndFlrSF','1stFlrSF','BsmtExposure_Gd','BsmtExposure_Av','BsmtExposure_Mn','BsmtExposure_No','BsmtExposure_nan',\n",
        "                'Foundation_Wood','Foundation_Slab','Foundation_BrkTil','Foundation_CBlock','Foundation_PConc','Foundation_Stone','BldgType_Twnhs',\n",
        "                'BldgType_TwnhsE','BldgType_Duplex','BldgType_2fmCon','BldgType_1Fam', 'GarageType_nan','GarageType_CarPort','GarageType_Basment',\n",
        "                'GarageType_Detchd','GarageType_Attchd','GarageType_BuiltIn','GarageType_2Types','LotShape_IR3','LotShape_IR2','LotShape_Reg',\n",
        "                'LotShape_IR1','Fence_GdPrv','Fence_MnWw','Fence_GdWo','Fence_nan','Fence_MnPrv','RoofStyle_Flat','RoofStyle_Hip','RoofStyle_Gable',\n",
        "                'RoofStyle_Gambrel','RoofStyle_Mansard','RoofStyle_Shed', 'SalePrice']\n",
        "\n",
        "\n",
        "final_df = df_one_hot_train[cols_to_keep]\n",
        "\n",
        "print(final_df[final_df.columns[0:len(final_df.columns)-1]].columns)\n",
        "\n",
        "# Training a new model with only the new columns\n",
        "X_train, X_test, y_train, y_test = train_test_split(final_df[final_df.columns[0:len(final_df.columns)-1]], final_df['SalePrice'], test_size=0.3, random_state=10)\n",
        "\n",
        "model = LinearRegression().fit(X_train, y_train)"
      ],
      "metadata": {
        "id": "2-L7-z0XRJor",
        "colab": {
          "base_uri": "https://localhost:8080/"
        },
        "outputId": "59615b10-17e7-4595-9a77-e80e514d8583"
      },
      "execution_count": 22,
      "outputs": [
        {
          "output_type": "stream",
          "name": "stdout",
          "text": [
            "Index(['GrLivArea', '2ndFlrSF', '1stFlrSF', 'BsmtExposure_Gd',\n",
            "       'BsmtExposure_Av', 'BsmtExposure_Mn', 'BsmtExposure_No',\n",
            "       'BsmtExposure_nan', 'Foundation_Wood', 'Foundation_Slab',\n",
            "       'Foundation_BrkTil', 'Foundation_CBlock', 'Foundation_PConc',\n",
            "       'Foundation_Stone', 'BldgType_Twnhs', 'BldgType_TwnhsE',\n",
            "       'BldgType_Duplex', 'BldgType_2fmCon', 'BldgType_1Fam', 'GarageType_nan',\n",
            "       'GarageType_CarPort', 'GarageType_Basment', 'GarageType_Detchd',\n",
            "       'GarageType_Attchd', 'GarageType_BuiltIn', 'GarageType_2Types',\n",
            "       'LotShape_IR3', 'LotShape_IR2', 'LotShape_Reg', 'LotShape_IR1',\n",
            "       'Fence_GdPrv', 'Fence_MnWw', 'Fence_GdWo', 'Fence_nan', 'Fence_MnPrv',\n",
            "       'RoofStyle_Flat', 'RoofStyle_Hip', 'RoofStyle_Gable',\n",
            "       'RoofStyle_Gambrel', 'RoofStyle_Mansard', 'RoofStyle_Shed'],\n",
            "      dtype='object')\n"
          ]
        }
      ]
    },
    {
      "cell_type": "code",
      "source": [
        "# These coefficients are used in the streamlit app below\n",
        "model.coef_"
      ],
      "metadata": {
        "id": "NWMe5BT2UFnv"
      },
      "execution_count": null,
      "outputs": []
    },
    {
      "cell_type": "markdown",
      "metadata": {
        "id": "diDq_ercynsb"
      },
      "source": [
        "# Install Streamlit and localtunnel"
      ]
    },
    {
      "cell_type": "code",
      "execution_count": 1,
      "metadata": {
        "colab": {
          "base_uri": "https://localhost:8080/"
        },
        "id": "eGei_J8NyiZa",
        "outputId": "769036dc-3af8-4d99-aa79-8984483ac0b6"
      },
      "outputs": [
        {
          "output_type": "stream",
          "name": "stdout",
          "text": [
            "\u001b[2K     \u001b[90m━━━━━━━━━━━━━━━━━━━━━━━━━━━━━━━━━━━━━━━━\u001b[0m \u001b[32m8.9/8.9 MB\u001b[0m \u001b[31m60.3 MB/s\u001b[0m eta \u001b[36m0:00:00\u001b[0m\n",
            "\u001b[2K     \u001b[90m━━━━━━━━━━━━━━━━━━━━━━━━━━━━━━━━━━━━━━\u001b[0m \u001b[32m164.8/164.8 kB\u001b[0m \u001b[31m14.2 MB/s\u001b[0m eta \u001b[36m0:00:00\u001b[0m\n",
            "\u001b[?25h  Preparing metadata (setup.py) ... \u001b[?25l\u001b[?25hdone\n",
            "\u001b[2K     \u001b[90m━━━━━━━━━━━━━━━━━━━━━━━━━━━━━━━━━━━━━━━\u001b[0m \u001b[32m188.5/188.5 kB\u001b[0m \u001b[31m8.4 MB/s\u001b[0m eta \u001b[36m0:00:00\u001b[0m\n",
            "\u001b[2K     \u001b[90m━━━━━━━━━━━━━━━━━━━━━━━━━━━━━━━━━━━━━━━━\u001b[0m \u001b[32m4.8/4.8 MB\u001b[0m \u001b[31m30.5 MB/s\u001b[0m eta \u001b[36m0:00:00\u001b[0m\n",
            "\u001b[2K     \u001b[90m━━━━━━━━━━━━━━━━━━━━━━━━━━━━━━━━━━━━━━━━\u001b[0m \u001b[32m82.1/82.1 kB\u001b[0m \u001b[31m7.6 MB/s\u001b[0m eta \u001b[36m0:00:00\u001b[0m\n",
            "\u001b[2K     \u001b[90m━━━━━━━━━━━━━━━━━━━━━━━━━━━━━━━━━━━━━━━━\u001b[0m \u001b[32m62.7/62.7 kB\u001b[0m \u001b[31m6.0 MB/s\u001b[0m eta \u001b[36m0:00:00\u001b[0m\n",
            "\u001b[2K     \u001b[90m━━━━━━━━━━━━━━━━━━━━━━━━━━━━━━━━━━━━━━\u001b[0m \u001b[32m341.8/341.8 kB\u001b[0m \u001b[31m15.7 MB/s\u001b[0m eta \u001b[36m0:00:00\u001b[0m\n",
            "\u001b[?25h  Building wheel for validators (setup.py) ... \u001b[?25l\u001b[?25hdone\n",
            "\u001b[K\u001b[?25h\u001b[37;40mnpm\u001b[0m \u001b[0m\u001b[30;43mWARN\u001b[0m \u001b[0m\u001b[35msaveError\u001b[0m ENOENT: no such file or directory, open '/content/package.json'\n",
            "\u001b[0m\u001b[37;40mnpm\u001b[0m \u001b[0m\u001b[34;40mnotice\u001b[0m\u001b[35m\u001b[0m created a lockfile as package-lock.json. You should commit this file.\n",
            "\u001b[0m\u001b[37;40mnpm\u001b[0m \u001b[0m\u001b[30;43mWARN\u001b[0m \u001b[0m\u001b[35menoent\u001b[0m ENOENT: no such file or directory, open '/content/package.json'\n",
            "\u001b[0m\u001b[37;40mnpm\u001b[0m \u001b[0m\u001b[30;43mWARN\u001b[0m\u001b[35m\u001b[0m content No description\n",
            "\u001b[0m\u001b[37;40mnpm\u001b[0m \u001b[0m\u001b[30;43mWARN\u001b[0m\u001b[35m\u001b[0m content No repository field.\n",
            "\u001b[0m\u001b[37;40mnpm\u001b[0m \u001b[0m\u001b[30;43mWARN\u001b[0m\u001b[35m\u001b[0m content No README data\n",
            "\u001b[0m\u001b[37;40mnpm\u001b[0m \u001b[0m\u001b[30;43mWARN\u001b[0m\u001b[35m\u001b[0m content No license field.\n",
            "\u001b[0m\n",
            "+ localtunnel@2.0.2\n",
            "added 22 packages from 22 contributors and audited 22 packages in 1.849s\n",
            "\n",
            "3 packages are looking for funding\n",
            "  run `npm fund` for details\n",
            "\n",
            "found \u001b[92m0\u001b[0m vulnerabilities\n",
            "\n",
            "\u001b[K\u001b[?25h"
          ]
        }
      ],
      "source": [
        "!pip install -q streamlit\n",
        "!npm install localtunnel"
      ]
    },
    {
      "cell_type": "markdown",
      "metadata": {
        "id": "-jtmsWJWy1ml"
      },
      "source": [
        "#Create a streamlit app example"
      ]
    },
    {
      "cell_type": "code",
      "execution_count": 119,
      "metadata": {
        "colab": {
          "base_uri": "https://localhost:8080/"
        },
        "id": "s-q6Poytl1ND",
        "outputId": "aa011fa5-7f6a-4dbd-ec76-e5eba5b8673a"
      },
      "outputs": [
        {
          "output_type": "stream",
          "name": "stdout",
          "text": [
            "Overwriting app.py\n"
          ]
        }
      ],
      "source": [
        "%%writefile app.py\n",
        "# Cheatsheet available at https://docs.streamlit.io/library/cheatsheet\n",
        "\n",
        "import streamlit as st\n",
        "# from streamlit_extras.switch_page_button import switch_page\n",
        "import pandas as pd\n",
        "import numpy as np\n",
        "\n",
        "\n",
        "\n",
        "\n",
        "st.subheader('Please Input Your Project Specifications')\n",
        "#the key for all the input will allow streamlit to remember as we go from one page to the next\n",
        "grLivArea = st.number_input(\"Above Ground Living Area (Square Feet)\", min_value=1)\n",
        "secFloorSF = st.number_input(\"Second Floor (Square Feet)\", min_value=1)\n",
        "firFloorSF = st.number_input(\"First Floor (Square Feet)\", min_value=1)\n",
        "\n",
        "bsmtExposure = st.selectbox('Basement Exposure', ('Good Exposure', 'Average Exposure', 'Mimimum Exposure', 'No Exposure', 'No Basement'))\n",
        "foundation = st.selectbox('Foundation', ('Brick & Tile','Cinder Block','Poured Contrete','Slab','Stone','Wood'))\n",
        "bldgType = st.selectbox('Type of Dwelling', ('Single-family Detached','Two-family Conversion','Duplex','Townhouse End Unit','Townhouse Inside Unit'))\n",
        "garageType = st.selectbox('Garage Location', ('More than one type of garage','Attached to home','Basement Garage','Built-In (Garage part of house - typically has room above garage)','Car Port','Detached from home','No Garage'))\n",
        "lotShape = st.selectbox('General shape of property', ('Regular','Slightly irregular','Moderately Irregular', 'Irregular'))\n",
        "fence = st.selectbox('Fence quality', ('Good Privacy','Minimum Privacy','Good Wood','Minimum Wood/Wire','No Fence'))\n",
        "roofStyle = st.selectbox('Type of Roof', ('Flat','Gable','Gabrel (Barn)','Hip\tHip','Mansard','Shed'))\n",
        "\n",
        "gen_predictions = st.button('Generate Prediction')\n",
        "\n",
        "bsmt_options = ['Good Exposure', 'Average Exposure', 'Mimimum Exposure', 'No Exposure', 'No Basement']\n",
        "foundation_options = ['Brick & Tile','Cinder Block','Poured Contrete','Slab','Stone','Wood']\n",
        "bldg_options = ['Single-family Detached','Two-family Conversion','Duplex','Townhouse End Unit','Townhouse Inside Unit']\n",
        "garage_options = ['More than one type of garage','Attached to home','Basement Garage','Built-In (Garage part of house - typically has room above garage)','Car Port','Detached from home','No Garage']\n",
        "lot_options = ['Regular','Slightly irregular','Moderately Irregular', 'Irregular']\n",
        "fence_options = ['Good Privacy','Minimum Privacy','Good Wood','Minimum Wood/Wire','No Fence']\n",
        "roof_options = ['Flat','Gable','Gabrel (Barn)','Hip\tHip','Mansard','Shed']\n",
        "\n",
        "\n",
        "if gen_predictions:\n",
        "  coef = [-7.06795999e+00,  8.13266276e+01,  1.15934326e+02,  3.31709160e+04,\n",
        "        9.76049844e+03, -1.52691007e+02, -1.07394636e+04, -3.20392598e+04,\n",
        "      -5.13996397e+03,  8.70152253e+03, -1.07371517e+04, -4.48453612e+03,\n",
        "        3.01932905e+04, -1.85331613e+04,  1.32954149e+04,  1.51727981e+04,\n",
        "      -2.45898771e+04, -2.00918960e+04,  1.62135601e+04, -8.48270488e+03,\n",
        "      -9.75725900e+03, -2.86881406e+04,  7.42035111e+03,  1.46451613e+04,\n",
        "        2.64291428e+04, -1.56655071e+03, -6.24834458e+04,  3.07502720e+04,\n",
        "        1.29604440e+04,  1.87727299e+04,  7.94554190e+02,  9.04966745e+03,\n",
        "      -8.71663069e+03,  1.90492538e+03, -3.03251633e+03, -3.25369803e+04,\n",
        "        2.70901668e+04,  8.18553810e+03,  1.00061876e+03, -5.40418553e+02,\n",
        "      -3.19892472e+03]\n",
        "\n",
        "  x = [0] * 41\n",
        "  x[0] = grLivArea\n",
        "  x[1] = secFloorSF\n",
        "  x[2] = firFloorSF\n",
        "  x[3 + bsmt_options.index(bsmtExposure)] = 1\n",
        "  x[8 + foundation_options.index(foundation)] = 1\n",
        "  x[14 + bldg_options.index(bldgType)] = 1\n",
        "  x[19 +garage_options.index(garageType)] = 1\n",
        "  x[26 + lot_options.index(lotShape)]= 1\n",
        "  x[30 + fence_options.index(fence)]= 1\n",
        "  x[35 + roof_options.index(roofStyle)]= 1\n",
        "\n",
        "\n",
        "  cost_prediction = sum([co*var for co,var in zip(coef,x)])\n",
        "\n",
        "  st.subheader('Prediction: '+\"$\"+f'{round(cost_prediction):,}')\n",
        "  #st.write('We predict your house will sell for: ', \"$\"+f'{round(cost_prediction):,}')\n",
        "\n",
        "\n",
        "  st.subheader('Visualizations')\n",
        "\n",
        "  original_list = [co*var for co,var in zip(coef,x)]\n",
        "  no_0s = [x for x in original_list if x != 0]\n",
        "  test = np.array(no_0s)\n",
        "\n",
        "\n",
        "  dictionary = {'Above Ground Living Area': test[0], 'Second Floor': test[1],\n",
        "    'First Floor': test[2], 'Basement': test[3], 'Foundation': test[4],\n",
        "    'Dwelling': test[5], 'Garage': test[6], 'Property Shape': test[7], 'Fence': test[8], 'Roof': test[9]}\n",
        "\n",
        "  features = [\"Above Ground Living Area\",'Second Floor', 'First Floor', 'Basement']\n",
        "\n",
        "  bsmt_exp_alt = pd.DataFrame({\n",
        "      'feature':[\"Above Ground Living Area\",'Second Floor', 'First Floor', 'Basement','Foundation','Dwelling','Garage','Property Shape','Fence','Roof'],\n",
        "      'value':test})\n",
        "\n",
        "  st.write('Breakdown of the project valuation:')\n",
        "  st.bar_chart(bsmt_exp_alt, x=\"feature\", y=\"value\")\n",
        "\n",
        "  st.markdown(\"\"\"---\"\"\")\n",
        "  st.text(\"\")\n",
        "  st.text(\"\")\n",
        "  st.write(\"The following graphs show the change in price while holding the other inputs constant:\")\n",
        "\n",
        "  gtab1, gtab2, gtab3, gtab4 = st.tabs([\"Property Size and Layout\", \"Foundation\", \"Property Features\", \"Exterior Components\"])\n",
        "\n",
        "  with gtab1:\n",
        "\n",
        "\n",
        "    st.subheader('Predicted Sales Price vs Second floor square footage')\n",
        "    without_no_1_index = x.copy()\n",
        "    del without_no_1_index[1]\n",
        "    coef_no_1_index = coef.copy()\n",
        "    del coef_no_1_index[1]\n",
        "    b_2ndFlrSF= sum([co*var for co,var in zip(coef_no_1_index,without_no_1_index)])\n",
        "\n",
        "    ndFlrSF_alt = pd.DataFrame({'2ndFlrSF': np.arange(0, 2065)})\n",
        "    ndFlrSF_alt['price'] = ndFlrSF_alt['2ndFlrSF']*coef[1] + b_2ndFlrSF\n",
        "    st.line_chart(ndFlrSF_alt, x='2ndFlrSF', y='price')\n",
        "\n",
        "\n",
        "    st.subheader('Predicted Sales Price vs First floor square footage')\n",
        "    without_no_2_index = x.copy()\n",
        "    del without_no_2_index[2]\n",
        "    coef_no_2_index = coef.copy()\n",
        "    del coef_no_2_index[1]\n",
        "    b_1stFlrSF= sum([co*var for co,var in zip(coef_no_2_index,without_no_2_index)])\n",
        "\n",
        "    stFlrSF_alt = pd.DataFrame({'1stFlrSF': np.arange(0, 2065)})\n",
        "    stFlrSF_alt['price'] = stFlrSF_alt['1stFlrSF']*coef[1] + b_1stFlrSF\n",
        "    st.line_chart(stFlrSF_alt, x='1stFlrSF', y='price')\n",
        "\n",
        "\n",
        "    st.subheader('Predicted Sales Price vs Above grade (ground) living area square footage')\n",
        "    without_no_0_index = x.copy()\n",
        "    without_no_0_index = without_no_0_index[1:]\n",
        "    coef_no_0_index = coef[1:]\n",
        "    b_gr_living = sum([co*var for co,var in zip(coef_no_0_index,without_no_0_index)])\n",
        "\n",
        "    grLivArea_alt = pd.DataFrame({'GrLivArea': np.arange(300, 5642)})\n",
        "    grLivArea_alt['price'] = grLivArea_alt['GrLivArea']*coef[0] + b_gr_living\n",
        "    st.line_chart(grLivArea_alt, x='GrLivArea', y='price')\n",
        "\n",
        "\n",
        "  with gtab2:\n",
        "\n",
        "    def graph_data(starting_index, num, index_increment, t, coefficients):\n",
        "      l = t.copy()\n",
        "      l[starting_index+index_increment] = 0\n",
        "      return_l = []\n",
        "      for i in range(num):\n",
        "        l[starting_index+i] = 1\n",
        "        temp = sum([co*var for co,var in zip(coefficients,l)])\n",
        "        return_l.append(round(temp))\n",
        "        l[starting_index+i] = 0\n",
        "      return return_l\n",
        "\n",
        "\n",
        "\n",
        "\n",
        "    st.subheader('Predicted Sales Price vs Basement Exposure')\n",
        "    bsmt_price_alt= graph_data(3,5,bsmt_options.index(bsmtExposure),x, coef)\n",
        "\n",
        "    bsmt_exp_alt = pd.DataFrame({\n",
        "        'type':['Good Exposure', 'Average Exposure', 'Mimimum Exposure', 'No Exposure', 'No Basement'],\n",
        "        'price':bsmt_price_alt})\n",
        "    st.bar_chart(bsmt_exp_alt, x='type', y='price')\n",
        "\n",
        "\n",
        "\n",
        "    st.subheader('Predicted Sales Price vs Type of Foundation')\n",
        "\n",
        "    foundation_price_alt= graph_data(8,6,foundation_options.index(foundation),x, coef)\n",
        "    foundation_alt = pd.DataFrame({\n",
        "        'type':['Brick & Tile','Cinder Block','Poured Contrete','Slab','Stone','Wood'],\n",
        "        'price':foundation_price_alt})\n",
        "    st.bar_chart(foundation_alt, x='type', y='price')\n",
        "\n",
        "\n",
        "\n",
        "  # Property Features\n",
        "  with gtab3:\n",
        "\n",
        "    st.subheader('Predicted Sales Price vs Type of Building')\n",
        "    BldgType_price_alt = graph_data(14,5,bldg_options.index(bldgType),x, coef)\n",
        "    BldgType_alt = pd.DataFrame({\n",
        "        'type':['Single-family Detached','Two-family Conversion','Duplex','Townhouse End Unit','Townhouse Inside Unit'],\n",
        "        'price':BldgType_price_alt})\n",
        "    st.bar_chart(BldgType_alt, x='type', y='price')\n",
        "\n",
        "    st.subheader('Predicted Sales Price vs Lot Shape')\n",
        "    LotShape_price_alt = graph_data(26,4,lot_options.index(lotShape),x, coef)\n",
        "    LotShape_alt = pd.DataFrame({\n",
        "        'type':['Regular','Slightly irregular','Moderately Irregular', 'Irregular'],\n",
        "        'price':LotShape_price_alt})\n",
        "    st.bar_chart(LotShape_alt, x='type', y='price')\n",
        "\n",
        "    st.subheader('Predicted Sales Price vs Garage Type')\n",
        "    GarageType_price_alt = graph_data(19,7,garage_options.index(garageType),x, coef)\n",
        "    GarageType_alt = pd.DataFrame({\n",
        "        'type':['More than one type of garage','Attached to home','Basement Garage','Built-In (Garage part of house - typically has room above garage)','Car Port','Detached from home','No Garage'],\n",
        "        'price':GarageType_price_alt})\n",
        "    st.bar_chart(GarageType_alt, x='type', y='price')\n",
        "\n",
        "\n",
        "\n",
        "  # Exterior Components\n",
        "  with gtab4:\n",
        "    st.subheader('Predicted Sales Price vs Fence Privacy')\n",
        "    Fence_price_alt = graph_data(30,5,fence_options.index(fence),x, coef)\n",
        "    Fence_alt = pd.DataFrame({\n",
        "        'type':['Good Privacy','Minimum Privacy','Good Wood','Minimum Wood/Wire','No Fence'],\n",
        "        'price':Fence_price_alt})\n",
        "    st.bar_chart(Fence_alt, x='type', y='price')\n",
        "\n",
        "    st.subheader('Predicted Sales Price vs Roofing Style')\n",
        "    RoofStyle_price_alt = graph_data(35,6,roof_options.index(roofStyle),x, coef)\n",
        "    RoofStyle_alt = pd.DataFrame({\n",
        "        'type':['Flat','Gable','Gabrel (Barn)','Hip\tHip','Mansard','Shed'],\n",
        "        'price':RoofStyle_price_alt})\n",
        "    st.bar_chart(RoofStyle_alt, x='type', y='price')\n",
        "\n",
        "\n"
      ]
    },
    {
      "cell_type": "markdown",
      "metadata": {
        "id": "sOJ8WB-p2xa0"
      },
      "source": [
        "# Run the app and keep logs"
      ]
    },
    {
      "cell_type": "code",
      "execution_count": 120,
      "metadata": {
        "id": "Ypi7o3Ol0ZV5"
      },
      "outputs": [],
      "source": [
        "!streamlit run /content/app.py &>/content/logs.txt &"
      ]
    },
    {
      "cell_type": "code",
      "execution_count": null,
      "metadata": {
        "colab": {
          "base_uri": "https://localhost:8080/"
        },
        "id": "ILwthTCazFq6",
        "outputId": "5c5703c4-c56b-41d1-f321-623bdb804381"
      },
      "outputs": [
        {
          "metadata": {
            "tags": null
          },
          "name": "stdout",
          "output_type": "stream",
          "text": [
            "34.125.234.231\n",
            "\u001b[K\u001b[?25hnpx: installed 22 in 2.833s\n",
            "your url is: https://dark-cities-happen.loca.lt\n"
          ]
        }
      ],
      "source": [
        "!curl ipv4.icanhazip.com\n",
        "!npx localtunnel --port 8501"
      ]
    }
  ],
  "metadata": {
    "colab": {
      "provenance": []
    },
    "kernelspec": {
      "display_name": "Python 3",
      "name": "python3"
    },
    "language_info": {
      "name": "python"
    }
  },
  "nbformat": 4,
  "nbformat_minor": 0
}